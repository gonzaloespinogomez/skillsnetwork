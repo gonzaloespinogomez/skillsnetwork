{
    "cells": [
        {
            "cell_type": "markdown",
            "metadata": {
                "collapsed": true
            },
            "source": "# Descripci\u00f3n\nEste notebook analiza y visualiza datos de precipitaci\u00f3n"
        },
        {
            "cell_type": "code",
            "execution_count": 1,
            "metadata": {},
            "outputs": [
                {
                    "data": {
                        "text/html": "<div>\n<style scoped>\n    .dataframe tbody tr th:only-of-type {\n        vertical-align: middle;\n    }\n\n    .dataframe tbody tr th {\n        vertical-align: top;\n    }\n\n    .dataframe thead th {\n        text-align: right;\n    }\n</style>\n<table border=\"1\" class=\"dataframe\">\n  <thead>\n    <tr style=\"text-align: right;\">\n      <th></th>\n      <th>TERMODIN\u00e7MICA</th>\n      <th>Unnamed: 1</th>\n      <th>Unnamed: 2</th>\n      <th>Unnamed: 3</th>\n    </tr>\n  </thead>\n  <tbody>\n    <tr>\n      <th>0</th>\n      <td>NaN</td>\n      <td>Contribuci\u0097n prueba (%)</td>\n      <td>Nota prueba</td>\n      <td>Contribuci\u0097n prueba</td>\n    </tr>\n    <tr>\n      <th>1</th>\n      <td>Prueba 1er bimestre</td>\n      <td>7,5</td>\n      <td>10</td>\n      <td>0,75</td>\n    </tr>\n    <tr>\n      <th>2</th>\n      <td>Examen 1er parcial</td>\n      <td>20</td>\n      <td>6,2</td>\n      <td>1,24</td>\n    </tr>\n    <tr>\n      <th>3</th>\n      <td>Prueba asincrona 2\u00bc bimestre</td>\n      <td>7,5</td>\n      <td>8,64</td>\n      <td>0,648</td>\n    </tr>\n    <tr>\n      <th>4</th>\n      <td>Practicas laboratorio</td>\n      <td>15</td>\n      <td>9,7</td>\n      <td>1,455</td>\n    </tr>\n  </tbody>\n</table>\n</div>",
                        "text/plain": "                  TERMODIN\u00e7MICA               Unnamed: 1   Unnamed: 2  \\\n0                           NaN  Contribuci\u0097n prueba (%)  Nota prueba   \n1           Prueba 1er bimestre                      7,5           10   \n2            Examen 1er parcial                       20          6,2   \n3  Prueba asincrona 2\u00bc bimestre                      7,5         8,64   \n4         Practicas laboratorio                       15          9,7   \n\n            Unnamed: 3  \n0  Contribuci\u0097n prueba  \n1                 0,75  \n2                 1,24  \n3                0,648  \n4                1,455  "
                    },
                    "execution_count": 1,
                    "metadata": {},
                    "output_type": "execute_result"
                }
            ],
            "source": "# The code was removed by Watson Studio for sharing."
        },
        {
            "cell_type": "code",
            "execution_count": null,
            "metadata": {},
            "outputs": [],
            "source": "\n"
        },
        {
            "cell_type": "code",
            "execution_count": null,
            "metadata": {},
            "outputs": [],
            "source": ""
        },
        {
            "cell_type": "code",
            "execution_count": null,
            "metadata": {},
            "outputs": [],
            "source": ""
        }
    ],
    "metadata": {
        "kernelspec": {
            "display_name": "Python 3.6",
            "language": "python",
            "name": "python3"
        },
        "language_info": {
            "codemirror_mode": {
                "name": "ipython",
                "version": 3
            },
            "file_extension": ".py",
            "mimetype": "text/x-python",
            "name": "python",
            "nbconvert_exporter": "python",
            "pygments_lexer": "ipython3",
            "version": "3.6.9"
        }
    },
    "nbformat": 4,
    "nbformat_minor": 1
}